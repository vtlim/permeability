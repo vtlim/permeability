{
 "cells": [
  {
   "cell_type": "code",
   "execution_count": 57,
   "metadata": {},
   "outputs": [],
   "source": [
    "import os\n",
    "import numpy as np\n",
    "from scipy import integrate\n",
    "import mdtraj\n",
    "import matplotlib.pyplot as plt\n",
    "%matplotlib inline"
   ]
  },
  {
   "cell_type": "markdown",
   "metadata": {},
   "source": [
    "## Objective\n",
    "Calculate the self-diffusion coefficient of TIP3P water from a molecular dynamics simulation.  \n",
    "The reference value is $5.19 \\times 10^{-5} cm^2/s$. (See below for source.)  \n",
    "**Final answer, calculated from average of all water molecules =** $-2.41 \\times 10^{-5} cm^2/s$  \n",
    "Yes, it shouldn't be negative. TODO: rerun simulation with snapshots every 1 fs instead of every 100 fs.\n",
    "\n",
    "*&ast;&ast;   See additional notes in acf.ipynb   &ast;&ast;* "
   ]
  },
  {
   "cell_type": "code",
   "execution_count": 58,
   "metadata": {},
   "outputs": [],
   "source": [
    "def readXYZnamd(infile):\n",
    "    \"\"\"\n",
    "    Read in a pre-processed XYZ file from NAMD. \n",
    "    \n",
    "    This was obtained from the NAMD binary file using the catdcd utility:\n",
    "      'catdcd -s waterbox.psf -stype psf -i solu.index -o vels_0.xyz -otype xyz usWat-1.veldcd'\n",
    "      Here, usWat-1.veldcd is the name of the binary file, and \n",
    "      solu.index is a plain ASCII file with 0 1 2 each on a new line bc those are the indices\n",
    "      of the OH2, H1, H2 atoms of my specific water molecule.\n",
    "      See more: http://www.ks.uiuc.edu/Development/MDTools/catdcd/\n",
    "    The file was processed to remove all lines that didn't have velocity data.\n",
    "    \n",
    "    Parameter\n",
    "    ---------\n",
    "    infile: string name of pre-processed XYZ file \n",
    "    \n",
    "    Returns\n",
    "    -------\n",
    "    vel*: numpy arrays of the 1st, 2nd, and 3rd columns in the file\n",
    "    \"\"\"\n",
    "    velx, vely, velz = np.loadtxt(infile, usecols=(1,2,3), dtype=float, unpack=True)\n",
    "\n",
    "    # internal namd units  --[* 20.45482706] --> Angstroms/picosecond\n",
    "    # Angstroms/picosecond --[* 100.0]       --> m/s\n",
    "    print(velx[0])\n",
    "    velx, vely, velz = 20.45482706*velx, 20.45482706*vely, 20.45482706*velz\n",
    "    \n",
    "    return velx, vely, velz"
   ]
  },
  {
   "cell_type": "code",
   "execution_count": 59,
   "metadata": {},
   "outputs": [],
   "source": [
    "def calcCOM(inlist):\n",
    "    \"\"\"\n",
    "    Calculate center of mass of the given timeseries.\n",
    "       x_CM = (m1*x1 + m2*x2 + m3*x3) / (m1 + m2 + m3)\n",
    "\n",
    "    Parameter\n",
    "    ---------\n",
    "    inlist: list of tuples, where each tuple is (weight, listData)\n",
    "             ex., [(atomMass1, list1), (atomMass2, list2)]\n",
    "\n",
    "    Returns\n",
    "    -------\n",
    "    final: list of center of mass of all the tuple list components\n",
    "\n",
    "    \"\"\"\n",
    "    weighted = []\n",
    "    denom = []\n",
    "    for i in inlist:\n",
    "        denom.append(i[0])\n",
    "        weighted.append(i[0]*i[1])\n",
    "    numerator = np.sum(weighted, axis=0)\n",
    "    denominator = np.sum(denom)\n",
    "    final = numerator / denominator\n",
    "    return final"
   ]
  },
  {
   "cell_type": "code",
   "execution_count": 60,
   "metadata": {},
   "outputs": [],
   "source": [
    "def calcACF(series, norm=False):\n",
    "    \"\"\"\n",
    "    Calculate the autocorrelation function of the given timeseries.\n",
    "    Modified code from David Wych.\n",
    "       Cz(t) = 1/nSamples sum[ deltaZ(i) * deltaZ(i+t), {i=0, imax=nSamples} ]\n",
    "       deltaZ(i) = z(i) - avgZ\n",
    "    \n",
    "    Parameters\n",
    "    ----------\n",
    "    series: numpy list of data from which to calculate the autocorrelation function\n",
    "    norm: Boolean variable, whether to normalize output or not\n",
    "    \n",
    "    Returns\n",
    "    -------\n",
    "    C*: list containing the autocorrelation function\n",
    "    \n",
    "    \n",
    "    \"\"\"\n",
    "    # assign cutoff from half of timeseries data\n",
    "    N = len(series)\n",
    "    cutoff = int(N/2)\n",
    "    avg = np.average(series)\n",
    "    \n",
    "    # calculate ACF here\n",
    "    lt = 0\n",
    "    C_prime = []\n",
    "    while lt <= cutoff:\n",
    "        temp = []\n",
    "        nSamples = N-lt\n",
    "        for i in range(nSamples):\n",
    "            temp.append((series[i]-avg)*(series[i+lt]-avg))\n",
    "        term = np.sum(temp)/nSamples\n",
    "        C_prime.append(term)\n",
    "        lt += 1\n",
    "\n",
    "    if not norm:\n",
    "        return np.asarray(C_prime)\n",
    "\n",
    "    # normalization: since working with dZs, use norm of dZ vector\n",
    "    # I don't know if this is right...\n",
    "    norms = []\n",
    "    for i in range(N):\n",
    "         norms.append((series[i]-avg)**2)\n",
    "    normConst = np.sum(norms)/N # take average\n",
    "    print(normConst)\n",
    "    C = C_prime/normConst\n",
    "    return C"
   ]
  },
  {
   "cell_type": "code",
   "execution_count": 61,
   "metadata": {},
   "outputs": [],
   "source": [
    "# Load entire data\n",
    "traj = mdtraj.load_dcd('run2/usWat-2.veldcd','waterbox.psf')"
   ]
  },
  {
   "cell_type": "code",
   "execution_count": 62,
   "metadata": {},
   "outputs": [
    {
     "data": {
      "text/plain": [
       "' CODE FOR TESTING - 1\\nPlaying around with mdtraj. '"
      ]
     },
     "execution_count": 62,
     "metadata": {},
     "output_type": "execute_result"
    }
   ],
   "source": [
    "\"\"\" CODE FOR TESTING - 1\n",
    "Playing around with mdtraj. \"\"\"\n",
    "\n",
    "# Get data as in traj.xyz[frameNum, atomNum, coord]\n",
    "#   For frameNum, atomNum: 0 is the first atom\n",
    "#   For coord: x = 0, y = 1, z = 2\n",
    "#print(traj)\n",
    "#traj.xyz[0,0:6,2]\n",
    "\n",
    "# compute center-of-mass velocities; then convert units\n",
    "#traj_com = mdtraj.compute_center_of_mass(traj) # shape (20000, 3)\n",
    "#velx_all = traj_com[:,0]*10*20.4548270 # A/ps, shape (20000, 3)"
   ]
  },
  {
   "cell_type": "code",
   "execution_count": 63,
   "metadata": {},
   "outputs": [],
   "source": [
    "# center of mass for mdtraj all atoms\n",
    "# (1) calc center of mass by each water molecule\n",
    "# (2) then average all molecules' resulting velocities\n",
    "topology = traj.topology\n",
    "o_indices = topology.select('name O')\n",
    "h_indices = topology.select('name H1 or name H2')\n",
    "\n",
    "# 10 mdtraj, 20.45 namd, 16 oxygen, 1.01 hydrogen\n",
    "vels_all_O = np.asarray(traj.xyz[:,o_indices,:]*10*20.4548270*16.)   # shape is (nFrames, nMols, 3)\n",
    "vels_all_H = np.asarray(traj.xyz[:,h_indices,:]*10*20.4548270*1.01)\n",
    "\n",
    "# now combine mols together: sum and divide my molecular mass\n",
    "nAtoms = 3\n",
    "vels_all_sum = []\n",
    "for i in range(vels_all_O.shape[1]):\n",
    "    thissum = vels_all_O[:,i,:]+vels_all_H[:,(nAtoms-1)*i,:]+vels_all_H[:,(nAtoms-1)*(i)+1,:]\n",
    "    vels_all_sum.append(thissum)\n",
    "vels_all_sum = np.asarray(vels_all_sum)\n",
    "vels_all_com = vels_all_sum/18.02         # shape is (nMols, nFrames, 3) !!"
   ]
  },
  {
   "cell_type": "code",
   "execution_count": 64,
   "metadata": {},
   "outputs": [
    {
     "data": {
      "text/plain": [
       "' CODE FOR TESTING - 2\\nThis was comparing the XYZ input for one mol to the same mol imported via mdtraj. \\nTook out the xyz route, so for debugging, add code to read in XYZ and apply calcCOM. \\nSee acf.ipynb. '"
      ]
     },
     "execution_count": 64,
     "metadata": {},
     "output_type": "execute_result"
    }
   ],
   "source": [
    "\"\"\" CODE FOR TESTING - 2\n",
    "This was comparing the XYZ input for one mol to the same mol imported via mdtraj. \n",
    "Took out the xyz route, so for debugging, add code to read in XYZ and apply calcCOM. \n",
    "See acf.ipynb. \"\"\"\n",
    "\n",
    "# print(\"x of last water at frame 1 (no units, no weights):\",traj.xyz[0,3000,0],traj.xyz[0,3001,0],traj.xyz[0,3002,0])\n",
    "# print(\"x of last water at frame 1 (w/units, w/weights):\",velx_all_O[0,-1],velx_all_H[0,-1],velx_all_H[0,-2])\n",
    "# print(\"x of last water at frame 1 (w/units, no weights):\",velx_0[0], velx_1[0], velx_2[0])\n",
    "# print(\"x of last water at frame 1 (w/units, w/centerMass):\",velx_com[0])\n",
    "# print(\"x of last water at frame 1 (w/units, w/centerMass):\",velx_all_com[-1,0])\n",
    "\n",
    "# print(\"y of last water at frame 1 (w/units, w/centerMass):\",vely_com[0])\n",
    "# print(\"y of last water at frame 1 (w/units, w/centerMass):\",vels_all_com[-1,0,1])\n",
    "\n",
    "# print(\"z of last water at frame 1 (w/units, w/centerMass):\",velz_com[0])\n",
    "# print(\"z of last water at frame 1 (w/units, w/centerMass):\",vels_all_com[-1,0,2])"
   ]
  },
  {
   "cell_type": "code",
   "execution_count": 65,
   "metadata": {},
   "outputs": [
    {
     "data": {
      "text/plain": [
       "Text(0,0.5,'$\\\\AA$/ps')"
      ]
     },
     "execution_count": 65,
     "metadata": {},
     "output_type": "execute_result"
    },
    {
     "data": {
      "image/png": "[encoded data removed]",
      "text/plain": [
       "<matplotlib.figure.Figure at 0x7f9562c420f0>"
      ]
     },
     "metadata": {},
     "output_type": "display_data"
    }
   ],
   "source": [
    "# Visualize velocity data\n",
    "molindex = -1\n",
    "plt.plot(np.arange(len(vels_all_com[-1,:,0]))/10,vels_all_com[-1,:,0])\n",
    "plt.plot(np.arange(len(vels_all_com[-1,:,1]))/10,vels_all_com[-1,:,1])\n",
    "plt.plot(np.arange(len(vels_all_com[-1,:,2]))/10,vels_all_com[-1,:,2])\n",
    "plt.xlabel('ps')\n",
    "plt.ylabel('$\\AA$/ps')  # if dividing x-values by 10, use A/ps\n",
    "#plt.ylabel('m/s')"
   ]
  },
  {
   "cell_type": "code",
   "execution_count": 66,
   "metadata": {},
   "outputs": [
    {
     "data": {
      "text/plain": [
       "' CODE FOR TESTING - 3\\nThis looked at averaging velocity data before calculating ACF.\\nThis gets wildly skewed results. Take a look at the scale of the plot. '"
      ]
     },
     "execution_count": 66,
     "metadata": {},
     "output_type": "execute_result"
    }
   ],
   "source": [
    "\"\"\" CODE FOR TESTING - 3\n",
    "This looked at averaging velocity data before calculating ACF.\n",
    "This gets wildly skewed results. Take a look at the scale of the plot. \"\"\"\n",
    "\n",
    "# # now average over all molecules\n",
    "# vels_all_avg = np.mean(vels_all_com, axis=0) # shape (nFrames, 3)\n",
    "\n",
    "# # Visualize average of all velocity data\n",
    "# plt.plot(np.arange(len(velx_all_avg))/10,velx_all_avg)\n",
    "# plt.xlabel('ps')\n",
    "# plt.ylabel('$\\AA$/ps')  # if dividing x-values by 10, use A/ps\n",
    "# #plt.ylabel('m/s')"
   ]
  },
  {
   "cell_type": "code",
   "execution_count": 67,
   "metadata": {},
   "outputs": [
    {
     "data": {
      "text/plain": [
       "' CODE FOR TESTING - 3 (continued) '"
      ]
     },
     "execution_count": 67,
     "metadata": {},
     "output_type": "execute_result"
    }
   ],
   "source": [
    "\"\"\" CODE FOR TESTING - 3 (continued) \"\"\"\n",
    "\n",
    "# # ACF on average velocity\n",
    "# acf_all_x = calcACF(velx_all_avg, norm=False)\n",
    "# print(integrate(acf_all_x, dx=0.1))\n",
    "# plt.plot(np.arange(len(acf_all_x[:200]))/10,acf_all_x[:200], label='x')"
   ]
  },
  {
   "cell_type": "code",
   "execution_count": 68,
   "metadata": {},
   "outputs": [
    {
     "name": "stdout",
     "output_type": "stream",
     "text": [
      "0\n",
      "1\n",
      "2\n",
      "3\n",
      "4\n",
      "5\n",
      "6\n",
      "7\n",
      "8\n",
      "9\n"
     ]
    }
   ],
   "source": [
    "# calc ACF individually by mol then average at end -- TODO improve efficiency?\n",
    "acf_list_x = []\n",
    "acf_list_y = []\n",
    "acf_list_z = []\n",
    "diff_list_x = []\n",
    "diff_list_y = []\n",
    "diff_list_z = []\n",
    "#for i in range(nMols):\n",
    "for i in range(10):\n",
    "    #if i%10==0: \n",
    "    print(i) # status check\n",
    "    acf_i_x = calcACF(vels_all_com[i,:,0], norm=False)\n",
    "    acf_i_y = calcACF(vels_all_com[i,:,1], norm=False)\n",
    "    acf_i_z = calcACF(vels_all_com[i,:,2], norm=False)\n",
    "    acf_list_x.append(acf_i_x)\n",
    "    acf_list_y.append(acf_i_y)\n",
    "    acf_list_z.append(acf_i_z)\n",
    "    diff_list_x.append(integrate.simps(acf_i_x, dx=0.1))\n",
    "    diff_list_y.append(integrate.simps(acf_i_y, dx=0.1))\n",
    "    diff_list_z.append(integrate.simps(acf_i_z, dx=0.1))"
   ]
  },
  {
   "cell_type": "code",
   "execution_count": 69,
   "metadata": {},
   "outputs": [
    {
     "data": {
      "text/plain": [
       "<matplotlib.legend.Legend at 0x7f95c955ec50>"
      ]
     },
     "execution_count": 69,
     "metadata": {},
     "output_type": "execute_result"
    },
    {
     "data": {
      "image/png": "[encoded data removed]",
      "text/plain": [
       "<matplotlib.figure.Figure at 0x7f9565eb4a20>"
      ]
     },
     "metadata": {},
     "output_type": "display_data"
    }
   ],
   "source": [
    "trim = 200\n",
    "plt.plot(np.arange(len(acf_list_x[1][:trim]))/10,acf_list_x[1][:trim], label='x')\n",
    "plt.plot(np.arange(len(acf_list_y[1][:trim]))/10,acf_list_y[1][:trim], label='y')\n",
    "plt.plot(np.arange(len(acf_list_z[1][:trim]))/10,acf_list_z[1][:trim], label='z')\n",
    "plt.xlabel('ps')\n",
    "plt.ylabel('$C_{vv}(t) \\ \\ (\\AA^2/ps^s)$')\n",
    "plt.title(\"Autocorrelation function of center-of-mass velocity of 1 water molecule\")\n",
    "plt.legend()"
   ]
  },
  {
   "cell_type": "code",
   "execution_count": 70,
   "metadata": {},
   "outputs": [
    {
     "name": "stdout",
     "output_type": "stream",
     "text": [
      "-0.0780135625758 -0.0702227784189 -0.575040330738\n"
     ]
    },
    {
     "data": {
      "text/plain": [
       "-2.4109222391094328e-09"
      ]
     },
     "execution_count": 70,
     "metadata": {},
     "output_type": "execute_result"
    }
   ],
   "source": [
    "acf_avg_x = np.mean(np.asarray(acf_list_x), axis=0)\n",
    "acf_avg_y = np.mean(np.asarray(acf_list_y), axis=0)\n",
    "acf_avg_z = np.mean(np.asarray(acf_list_z), axis=0)\n",
    "diff_avg_x, diff_avg_y, diff_avg_z = integrate.simps(acf_avg_x, dx=0.1), integrate.simps(acf_avg_y, dx=0.1), integrate.simps(acf_avg_z, dx=0.1)\n",
    "print(diff_avg_x, diff_avg_y, diff_avg_z)\n",
    "diff_avg_scaled = sum([diff_avg_x, diff_avg_y, diff_avg_z])/3*1e-8 # m2/s: (1e-20) A2 to m2, (1e12) 1/ps to 1/s\n",
    "diff_avg_scaled"
   ]
  },
  {
   "cell_type": "code",
   "execution_count": 75,
   "metadata": {},
   "outputs": [
    {
     "data": {
      "text/plain": [
       "<matplotlib.legend.Legend at 0x7f956627d0b8>"
      ]
     },
     "execution_count": 75,
     "metadata": {},
     "output_type": "execute_result"
    },
    {
     "data": {
      "image/png": "[encoded data removed]",
      "text/plain": [
       "<matplotlib.figure.Figure at 0x7f9565bd4c18>"
      ]
     },
     "metadata": {},
     "output_type": "display_data"
    }
   ],
   "source": [
    "trim = 10\n",
    "plt.plot(np.arange(len(acf_list_x[1][:trim]))/10,acf_list_x[1][:trim], label='x_one')\n",
    "plt.plot(np.arange(len(acf_avg_x[:trim]))/10,acf_avg_x[:trim], label='x_all')\n",
    "plt.xlabel('ps')\n",
    "plt.ylabel('$C_{vv}(t) \\ \\ (\\AA^2/ps^s)$')\n",
    "plt.title(\"Autocorrelation function of center-of-mass velocities\\nof 1 water molecule vs. average of all waters\")\n",
    "plt.legend()"
   ]
  },
  {
   "cell_type": "code",
   "execution_count": 78,
   "metadata": {},
   "outputs": [
    {
     "data": {
      "text/plain": [
       "<matplotlib.legend.Legend at 0x7f9568065240>"
      ]
     },
     "execution_count": 78,
     "metadata": {},
     "output_type": "execute_result"
    },
    {
     "data": {
      "image/png": "[encoded data removed]",
      "text/plain": [
       "<matplotlib.figure.Figure at 0x7f9562a70908>"
      ]
     },
     "metadata": {},
     "output_type": "display_data"
    }
   ],
   "source": [
    "acf_sum = acf_avg_x + acf_avg_y + acf_avg_z\n",
    "\n",
    "# visualize the ACF\n",
    "trim = 10\n",
    "plt.plot(np.arange(len(acf_avg_x[:trim]))/10,acf_avg_x[:trim], label='x')\n",
    "plt.plot(np.arange(len(acf_avg_y[:trim]))/10,acf_avg_y[:trim], label='y')\n",
    "plt.plot(np.arange(len(acf_avg_z[:trim]))/10,acf_avg_z[:trim], label='z')\n",
    "plt.plot(np.arange(len(acf_sum[:trim]))/10,acf_sum[:trim], label='total', c='0.2')\n",
    "plt.plot(np.arange(len(acf_avg_z[:trim]))/10,np.zeros(len(acf_avg_z[:trim])), c='0.7',lw=1.0,ls='--')\n",
    "plt.xlabel('ps')\n",
    "plt.ylabel('$C_{vv}(t) \\ \\ (\\AA^2/ps^s)$')\n",
    "plt.legend()"
   ]
  }
 ],
 "metadata": {
  "kernelspec": {
   "display_name": "Python 3",
   "language": "python",
   "name": "python3"
  },
  "language_info": {
   "codemirror_mode": {
    "name": "ipython",
    "version": 3
   },
   "file_extension": ".py",
   "mimetype": "text/x-python",
   "name": "python",
   "nbconvert_exporter": "python",
   "pygments_lexer": "ipython3",
   "version": "3.6.3"
  }
 },
 "nbformat": 4,
 "nbformat_minor": 1
}
