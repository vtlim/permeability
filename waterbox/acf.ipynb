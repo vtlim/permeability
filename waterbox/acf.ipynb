{
 "cells": [
  {
   "cell_type": "code",
   "execution_count": 1,
   "metadata": {},
   "outputs": [],
   "source": [
    "import os\n",
    "import numpy as np\n",
    "from scipy import integrate\n",
    "import mdtraj\n",
    "import matplotlib.pyplot as plt\n",
    "%matplotlib inline"
   ]
  },
  {
   "cell_type": "markdown",
   "metadata": {},
   "source": [
    "## Objective\n",
    "Calculate the self-diffusion coefficient of TIP3P water from a molecular dynamics simulation.  \n",
    "The reference value is $5.19 \\times 10^{-5} cm^2/s$. (See below for source.)  \n",
    "**Final answer, calculated from single water molecule =** $-7.02 \\times 10^{-10} cm^2/s$  \n",
    "Yes, wrong answer. TODO: rerun simulation with snapshots every 1 fs instead of every 100 fs.\n",
    "\n",
    "*Calculation parameters:*  \n",
    "Data files and example input files in Github repo. Basic details:\n",
    "- 1001 water molecules\n",
    "- 31x31x31 Angstrom box\n",
    "- 2 fs/time step\n",
    "- data is taken every 0.1 ps (every 50 steps = every 100 fs)\n",
    "- Temperature of 308 K\n",
    "\n",
    "\n",
    "## Theory\n",
    "This notebook makes use of the Green-Kubo relation, such as derived [here][1] to Eqn. 162.\n",
    "- Components of x, y, z are added after integration\n",
    "- Remember the factor of 3 after summing components\n",
    "\n",
    "\n",
    "This code can be extended or repurposed for calculating diffusivity in an inhomogeneous system, such as a lipid bilayer (such as eq 4 [here][3]).\n",
    "\n",
    "## Units\n",
    "- Use the conversion factor for velocities from NAMD binary file [details][4]. This goes from internal units to  Angstroms/picosecond.\n",
    "- Normalized autocorrelations don't have units. They're divided out as part of the normalization process. \n",
    "- Non-normalized autocorrelations have the original data's units squared.\n",
    "- mdtraj loads thing in units of nm! That means if namd xyz says 0.163805, mdtraj loaded xyz says 0.0163805\n",
    "\n",
    "## Reference data\n",
    "From the web, literature, etc.\n",
    "1. [Table of self-diffusion coefficients based on water model][5]\n",
    "2. [Correlation function as a function of time][6] (I think this was normalized)\n",
    "3. [Bit of background stat mech in these slides][7] (though the scale of VACF and diffusion coefficient is different, maybe they had a diff. setup)\n",
    "4. In this [paper][8], fig 3 has clear plots and shows importance of small (< 1 ps) time step for recording data\n",
    "5. Autocorrelation function:\n",
    "    1. Equation in Leach for [velocity autocorrelation function][2] (p. 376).\n",
    "    2. Good way of [visualizing][9] how the time correlation function works (also good background material in rest of slides)\n",
    "6. If setting up new system for testing, remember to [consider the water density][10].\n",
    "7. [Water's self-diffusion coefficient as a function of temperature][11]\n",
    "8. Other work on TIP3P: [1][12]\n",
    "9. If using multiple atoms, find average velocity by weighting by atomic mass. I.e., Use center-of-mass velocity. Example VACF like [this][13].\n",
    "10. Obviously don't use the restrained water for VACF calculation.\n",
    "11. For averaging over all water molecules, don't average raw velocities. Average after calculating ACF on each molecule. If you plot `vels_all_avg`, you'd see that the scale is +-0.00015 A/ps for average as opposed to +-15 A/ps for individual water molecules.\n",
    "\n",
    "## TODO\n",
    "1. Calculate position ACF to calculate diffusion coefficient for the restrained water (first one).\n",
    "2. Parallelize the calcACF (also compare timings). Briefly tried this but the function would never finish executing even after ~20 min for a single calcACF run. Each ACF calculation as it is now is about 2.8 minutes.\n",
    "    1. Resources: [here](https://stackoverflow.com/questions/42550529/dask-how-would-i-parallelize-my-code-with-dask-delayed?rq=1) and [here](http://dask.pydata.org/en/latest/delayed-overview.html)\n",
    "\n",
    "\n",
    "[1]: http://www.pages.drexel.edu/~cfa22/msim/node29.html\n",
    "[2]: http://archive.ambermd.org/201305/att-0347/autocorrelation.jpg\n",
    "[3]: http://pubs.acs.org/doi/full/10.1021/acs.jctc.6b00747\n",
    "[4]: http://www.ks.uiuc.edu/Research/namd/mailing_list/namd-l.2008-2009/0435.html \n",
    "[5]: http://www1.lsbu.ac.uk/water/water_models.html\n",
    "[6]: http://www.chem.pku.edu.cn/liujian/tutorial-lscivr/tutorial-lscivr.html#351-diffusion-constant\n",
    "[7]: http://www.ks.uiuc.edu/Training/SumSchool/materials/lectures/6-3-Statistical-Mechanics-Proteins/1-ik_diffusion.pdf\n",
    "[8]: https://istina.msu.ru/media/publications/articles/304/d61/3161642/water_en_2012.pdf\n",
    "[9]: http://www.eng.buffalo.edu/~kofke/ce530/Lectures/Lecture12/sld012.htm\n",
    "[10]: http://www.ks.uiuc.edu/Research/namd/mailing_list/namd-l.2003-2004/0911.html\n",
    "[11]: http://pubs.rsc.org/en/content/articlepdf/2000/cp/b005319h\n",
    "[12]: https://www.ncbi.nlm.nih.gov/pmc/articles/PMC3193570/\n",
    "[13]: http://bit.ly/2D2iKeQ"
   ]
  },
  {
   "cell_type": "code",
   "execution_count": 2,
   "metadata": {},
   "outputs": [],
   "source": [
    "def readXYZnamd(infile):\n",
    "    \"\"\"\n",
    "    Read in a pre-processed XYZ file from NAMD. \n",
    "    \n",
    "    This was obtained from the NAMD binary file using the catdcd utility:\n",
    "      'catdcd -s waterbox.psf -stype psf -i solu.index -o vels_0.xyz -otype xyz usWat-1.veldcd'\n",
    "      Here, usWat-1.veldcd is the name of the binary file, and \n",
    "      solu.index is a plain ASCII file with 0 1 2 each on a new line bc those are the indices\n",
    "      of the OH2, H1, H2 atoms of my specific water molecule.\n",
    "      See more: http://www.ks.uiuc.edu/Development/MDTools/catdcd/\n",
    "    The file was processed to remove all lines that didn't have velocity data.\n",
    "    \n",
    "    Parameter\n",
    "    ---------\n",
    "    infile: string name of pre-processed XYZ file \n",
    "    \n",
    "    Returns\n",
    "    -------\n",
    "    vel*: numpy arrays of the 1st, 2nd, and 3rd columns in the file\n",
    "    \"\"\"\n",
    "    velx, vely, velz = np.loadtxt(infile, usecols=(1,2,3), dtype=float, unpack=True)\n",
    "\n",
    "    # internal namd units  --[* 20.45482706] --> Angstroms/picosecond\n",
    "    # Angstroms/picosecond --[* 100.0]       --> m/s\n",
    "    velx, vely, velz = 20.45482706*velx, 20.45482706*vely, 20.45482706*velz\n",
    "    \n",
    "    return velx, vely, velz"
   ]
  },
  {
   "cell_type": "code",
   "execution_count": 3,
   "metadata": {},
   "outputs": [],
   "source": [
    "def calcCOM(inlist):\n",
    "    \"\"\"\n",
    "    Calculate center of mass of the given timeseries.\n",
    "       x_CM = (m1*x1 + m2*x2 + m3*x3) / (m1 + m2 + m3)\n",
    "\n",
    "    Parameter\n",
    "    ---------\n",
    "    inlist: list of tuples, where each tuple is (weight, listData)\n",
    "             ex., [(atomMass1, list1), (atomMass2, list2)]\n",
    "\n",
    "    Returns\n",
    "    -------\n",
    "    final: list of center of mass of all the tuple list components\n",
    "\n",
    "    \"\"\"\n",
    "    weighted = []\n",
    "    denom = []\n",
    "    for i in inlist:\n",
    "        denom.append(i[0])\n",
    "        weighted.append(i[0]*i[1])\n",
    "    numerator = np.sum(weighted, axis=0)\n",
    "    denominator = np.sum(denom)\n",
    "    final = numerator / denominator\n",
    "    return final"
   ]
  },
  {
   "cell_type": "code",
   "execution_count": 4,
   "metadata": {},
   "outputs": [],
   "source": [
    "def calcACF(series, norm=False):\n",
    "    \"\"\"\n",
    "    Calculate the autocorrelation function of the given timeseries.\n",
    "    Modified code from David Wych.\n",
    "       Cz(t) = 1/nSamples sum[ deltaZ(i) * deltaZ(i+t), {i=0, imax=nSamples} ]\n",
    "       deltaZ(i) = z(i) - avgZ\n",
    "    \n",
    "    Parameters\n",
    "    ----------\n",
    "    series: numpy list of data from which to calculate the autocorrelation function\n",
    "    norm: Boolean variable, whether to normalize output or not\n",
    "    \n",
    "    Returns\n",
    "    -------\n",
    "    C*: list containing the autocorrelation function\n",
    "    \n",
    "    \n",
    "    \"\"\"\n",
    "    # assign cutoff from half of timeseries data\n",
    "    N = len(series)\n",
    "    cutoff = int(N/2)\n",
    "    avg = np.average(series)\n",
    "    \n",
    "    # calculate ACF here\n",
    "    lt = 0\n",
    "    C_prime = []\n",
    "    while lt <= cutoff:\n",
    "        temp = []\n",
    "        nSamples = N-lt\n",
    "        for i in range(nSamples):\n",
    "            temp.append((series[i]-avg)*(series[i+lt]-avg))\n",
    "        term = np.sum(temp)/nSamples\n",
    "        C_prime.append(term)\n",
    "        lt += 1\n",
    "\n",
    "    if not norm:\n",
    "        return np.asarray(C_prime)\n",
    "\n",
    "    # normalization: since working with dZs, use norm of dZ vector\n",
    "    # I don't know if this is right...\n",
    "    norms = []\n",
    "    for i in range(N):\n",
    "         norms.append((series[i]-avg)**2)\n",
    "    normConst = np.sum(norms)/N # take average\n",
    "    print(normConst)\n",
    "    C = C_prime/normConst\n",
    "    return C"
   ]
  },
  {
   "cell_type": "code",
   "execution_count": 5,
   "metadata": {},
   "outputs": [],
   "source": [
    "# Load data\n",
    "velx_0, vely_0, velz_0 = readXYZnamd('run2/vels_3000.xyz')\n",
    "velx_1, vely_1, velz_1 = readXYZnamd('run2/vels_3001.xyz')\n",
    "velx_2, vely_2, velz_2 = readXYZnamd('run2/vels_3002.xyz')"
   ]
  },
  {
   "cell_type": "code",
   "execution_count": 6,
   "metadata": {},
   "outputs": [
    {
     "data": {
      "text/plain": [
       "Text(0,0.5,'$\\\\AA$/ps')"
      ]
     },
     "execution_count": 6,
     "metadata": {},
     "output_type": "execute_result"
    },
    {
     "data": {
      "image/png": "[encoded data removed]",
      "text/plain": [
       "<matplotlib.figure.Figure at 0x7f91891240b8>"
      ]
     },
     "metadata": {},
     "output_type": "display_data"
    }
   ],
   "source": [
    "# Visualize velocity data\n",
    "plt.plot(np.arange(len(velx_0))/10,velx_0)\n",
    "plt.plot(np.arange(len(vely_0))/10,vely_0)\n",
    "plt.plot(np.arange(len(velz_0))/10,velz_0)\n",
    "plt.xlabel('ps')\n",
    "plt.ylabel('$\\AA$/ps')  # if dividing x-values by 10, use A/ps\n",
    "#plt.ylabel('m/s')"
   ]
  },
  {
   "cell_type": "code",
   "execution_count": 7,
   "metadata": {},
   "outputs": [],
   "source": [
    "# calculate center of mass of each component\n",
    "velx_wat1 = [(16., velx_0), (1.01, velx_1), (1.01, velx_2)]\n",
    "velx_com = calcCOM(velx_wat1)\n",
    "\n",
    "vely_wat1 = [(16., vely_0), (1.01, vely_1), (1.01, vely_2)]\n",
    "vely_com = calcCOM(vely_wat1)\n",
    "\n",
    "velz_wat1 = [(16., velz_0), (1.01, velz_1), (1.01, velz_2)]\n",
    "velz_com = calcCOM(velz_wat1)"
   ]
  },
  {
   "cell_type": "code",
   "execution_count": 8,
   "metadata": {},
   "outputs": [
    {
     "data": {
      "text/plain": [
       "Text(0,0.5,'$\\\\AA$/ps')"
      ]
     },
     "execution_count": 8,
     "metadata": {},
     "output_type": "execute_result"
    },
    {
     "data": {
      "image/png": "[encoded data removed]",
      "text/plain": [
       "<matplotlib.figure.Figure at 0x7f91419990b8>"
      ]
     },
     "metadata": {},
     "output_type": "display_data"
    }
   ],
   "source": [
    "# visualize to make sure nothing went awry\n",
    "# resulting plot should be much closer to O than to the 2 Hs\n",
    "plt.plot(np.arange(len(velx_com))/10,velx_com)\n",
    "plt.plot(np.arange(len(vely_com))/10,vely_com)\n",
    "plt.plot(np.arange(len(velz_com))/10,velz_com)\n",
    "plt.xlabel('ps')\n",
    "plt.ylabel('$\\AA$/ps') # if dividing x-values by 10, use A/ps\n",
    "#plt.ylabel('m/s')"
   ]
  },
  {
   "cell_type": "code",
   "execution_count": 9,
   "metadata": {},
   "outputs": [],
   "source": [
    "# calculate the autocorrelation function for each velocity component\n",
    "acf_x = calcACF(velx_com, norm=False)\n",
    "acf_y = calcACF(vely_com, norm=False)\n",
    "acf_z = calcACF(velz_com, norm=False)"
   ]
  },
  {
   "cell_type": "code",
   "execution_count": 17,
   "metadata": {},
   "outputs": [
    {
     "data": {
      "text/plain": [
       "<matplotlib.legend.Legend at 0x7f913e112e10>"
      ]
     },
     "execution_count": 17,
     "metadata": {},
     "output_type": "execute_result"
    },
    {
     "data": {
      "image/png": "[encoded data removed]",
      "text/plain": [
       "<matplotlib.figure.Figure at 0x7f913e20fe10>"
      ]
     },
     "metadata": {},
     "output_type": "display_data"
    }
   ],
   "source": [
    "acf_sum = acf_x + acf_y + acf_z\n",
    "\n",
    "# visualize the ACF\n",
    "trim = 10\n",
    "#plt.plot(np.arange(len(acf_x[:trim]))/10,acf_x[:trim], label='x')\n",
    "#plt.plot(np.arange(len(acf_y[:trim]))/10,acf_y[:trim], label='y')\n",
    "#plt.plot(np.arange(len(acf_z[:trim]))/10,acf_z[:trim], label='z')\n",
    "plt.plot(np.arange(len(acf_sum[:trim]))/10,acf_sum[:trim], label='total', c='0.2')\n",
    "plt.plot(np.arange(len(acf_z[:trim]))/10,np.zeros(len(acf_z[:trim])), c='0.7')\n",
    "plt.xlabel('ps')\n",
    "plt.ylabel('$C_{vv}(t) \\ \\ (\\AA^2/ps^s)$')\n",
    "plt.legend()"
   ]
  },
  {
   "cell_type": "code",
   "execution_count": 11,
   "metadata": {},
   "outputs": [
    {
     "name": "stdout",
     "output_type": "stream",
     "text": [
      "0.0643324787958 -0.0166614704669 -0.258337144528 -7.02220453997e-10\n"
     ]
    },
    {
     "data": {
      "text/plain": [
       "-7.0222045399747234e-10"
      ]
     },
     "execution_count": 11,
     "metadata": {},
     "output_type": "execute_result"
    }
   ],
   "source": [
    "diff = integrate.simps(acf_sum, dx=0.1)/3*1e-8\n",
    "# check by component\n",
    "diffx, diffy, diffz = integrate.simps(acf_x, dx=0.1), integrate.simps(acf_y, dx=0.1), integrate.simps(acf_z, dx=0.1)\n",
    "print(diffx, diffy, diffz, diff)\n",
    "diff_tot_scaled = sum([diffx, diffy, diffz])/3*1e-8 # m2/s: (1e-20) A2 to m2, (1e12) 1/ps to 1/s\n",
    "diff_tot_scaled"
   ]
  }
 ],
 "metadata": {
  "kernelspec": {
   "display_name": "Python 3",
   "language": "python",
   "name": "python3"
  },
  "language_info": {
   "codemirror_mode": {
    "name": "ipython",
    "version": 3
   },
   "file_extension": ".py",
   "mimetype": "text/x-python",
   "name": "python",
   "nbconvert_exporter": "python",
   "pygments_lexer": "ipython3",
   "version": "3.6.3"
  }
 },
 "nbformat": 4,
 "nbformat_minor": 1
}
